{
 "cells": [
  {
   "cell_type": "code",
   "execution_count": 1,
   "metadata": {},
   "outputs": [
    {
     "name": "stdout",
     "output_type": "stream",
     "text": [
      "Kết quả chẩn đoán SVM  [0 1]\n"
     ]
    }
   ],
   "source": [
    "# Khai báo thư viện\n",
    "import pandas as pd\n",
    "import numpy as np\n",
    "from sklearn import svm\n",
    "from sklearn.svm import SVC\n",
    "from sklearn.tree import DecisionTreeClassifier\n",
    "from sklearn.ensemble import RandomForestClassifier\n",
    "from sklearn.ensemble import GradientBoostingClassifier\n",
    "\n",
    "# Đọc dữ liệu đầu vào\n",
    "duongDan = 'Data_Gestational_diabetes.csv'\n",
    "# Dữ liệu đầu vào bao gồm 23 đặc trưng và đặc trưng thứ 23 là nhãn (0 - Bình Thường, 1 - Mắc ĐTD)\n",
    "tenCot = ['Year_old','Occupatio','Education','gestational_age','Number_of_pregnancy','Para','Childbirth_history', \n",
    "              'Family_history','Height','Pre_gregnancy_weight','Current_Weight','Upper_blood_pressure', \n",
    "              'Lower_blood_pressure','Work_status','Work_performance','Nutrition', 'Sport_practice_day_per_month',\n",
    "              'Sport_day_per_week', 'Sport_last_month', 'Glucose1','Glucose2','Glucose3','Conclude']\n",
    "duLieu = pd.read_csv(duongDan, names=tenCot, header=0)\n",
    "\n",
    "# Chuyển dữ liệu đầu vào sang dạng Ma trận\n",
    "matrixDuLieu = duLieu.values\n",
    "\n",
    "# Lấy ra tập đặc trưng huấn luyện\n",
    "X = matrixDuLieu[:,:-1].astype(float)\n",
    "\n",
    "# Lấy nhãn chẩn đoán: 0 - Bình Thường, 1 - Mắc ĐTD\n",
    "y = matrixDuLieu[:,-1].astype(int)\n",
    "\n",
    "# Thông tin bệnh nhân cần chẩn đoán\n",
    "bn = [[28,0,1,27,2,3,0,0,1.6,47,52,120,80,1,0,2,0,0,0,4.1,4.68,4.97],\n",
    "      [24,3,1,24,1,0,0,0,1.49,47,52,120,80,2,0,2,0,0,0,4.14,10.87,12.15]]\n",
    "\n",
    "# Huấn luyện mô hình SVM\n",
    "svm1 = svm.SVC(kernel='rbf', C=100000000, gamma=1e-09)\n",
    "svm1.fit(X, y)\n",
    "\n",
    "# Dự đoán\n",
    "bn_pred = svm1.predict(bn)\n",
    "print('Kết quả chẩn đoán SVM ', bn_pred)"
   ]
  }
 ],
 "metadata": {
  "kernelspec": {
   "display_name": "Python 3",
   "language": "python",
   "name": "python3"
  },
  "language_info": {
   "codemirror_mode": {
    "name": "ipython",
    "version": 3
   },
   "file_extension": ".py",
   "mimetype": "text/x-python",
   "name": "python",
   "nbconvert_exporter": "python",
   "pygments_lexer": "ipython3",
   "version": "3.12.6"
  }
 },
 "nbformat": 4,
 "nbformat_minor": 4
}
