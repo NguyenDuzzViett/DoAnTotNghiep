{
 "cells": [
  {
   "cell_type": "code",
   "execution_count": 3,
   "metadata": {},
   "outputs": [],
   "source": [
    "import pandas as pd \n",
    "import numpy as np\n",
    "# Đọc dữ liệu đầu vào \n",
    "dataPath = 'Data_Gestational_diabetes.csv'"
   ]
  },
  {
   "cell_type": "code",
   "execution_count": 4,
   "metadata": {},
   "outputs": [],
   "source": [
    "#tenCot = ['Tuoi','NN','TrinhDo','TuoiThai','SoLanMT','Para','TieuSu',' TienSuGD','ChieuCao','CanNang1','CanNang2','HuyetAp1','HuyetAp2','TinhChatCV1','TinhChatCV2','DinhDuong','TheThao1','TheThao2','TheThao3', \n",
    "#'Glucose1','Glucose2','Glucose3','KetLuan'] \n",
    "columnName = ['Year_old','Occupatio','Education','gestational_age','Number_of_pregnancy','Para','Childbirth_history', \n",
    "              'Family_history','Height','Pre_gregnancy_weight','Current_Weight','Upper_blood_pressure', \n",
    "              'Lower_blood_pressure','Work_status','Work_performance','Nutrition', 'Sport_practice_day_per_month',\n",
    "              'Sport_day_per_week', 'Sport_last_month', 'Glucose1','Glucose2','Glucose3','Conclude']"
   ]
  },
  {
   "cell_type": "code",
   "execution_count": 5,
   "metadata": {},
   "outputs": [],
   "source": [
    "dataGD = pd.read_csv(dataPath, names= columnName)\n",
    "#print('In ra 10 bản ghi đầu tiên')\n",
    "\n",
    "# Chuyển dữ liệu đầu vào sang dạng Ma trận \n",
    "dataMatrix = dataGD.values \n",
    "# Lấy ra các đặc trưng  \n",
    "X = dataMatrix[1:,:-1]\n",
    "# Lấy nhãn chẩn đoán: 0 - Bình Thường, 1 - Mắc ĐTD \n",
    "y = dataMatrix[1:,-1]\n",
    "#dataGD.head(10)"
   ]
  },
  {
   "cell_type": "code",
   "execution_count": 6,
   "metadata": {},
   "outputs": [],
   "source": [
    "from sklearn import model_selection \n",
    "n_splits = 10 \n",
    "# chia tập dữ liệu thành n_splits phần giống nhau \n",
    "kfold = model_selection.KFold(n_splits = n_splits,shuffle =True, random_state=7) "
   ]
  },
  {
   "cell_type": "code",
   "execution_count": 2,
   "metadata": {},
   "outputs": [],
   "source": [
    "from sklearn.ensemble import RandomForestClassifier\n",
    "from sklearn import datasets, linear_model\n",
    "from sklearn.model_selection import cross_val_score"
   ]
  },
  {
   "cell_type": "code",
   "execution_count": 1,
   "metadata": {},
   "outputs": [],
   "source": [
    "import xlwt\n",
    "wb = xlwt.Workbook()\n",
    "ws = wb.add_sheet('Result_RandomForest')\n",
    "r = 1\n",
    "ws.write(0,1,'auto')\n",
    "ws.write(0,2,0.5)\n",
    "ws.write(0,3,0.75)\n",
    "ws.write(0,4,1)\n",
    "n_splits = 10"
   ]
  },
  {
   "cell_type": "code",
   "execution_count": 7,
   "metadata": {},
   "outputs": [
    {
     "name": "stdout",
     "output_type": "stream",
     "text": [
      "n_estimators = 100\n",
      "max_features = 0.000000\n",
      " Average Accuracy: 0.909375\n",
      "n_estimators = 100\n",
      "max_features = 0.500000\n",
      " Average Accuracy: 0.908594\n",
      "n_estimators = 100\n",
      "max_features = 0.750000\n",
      " Average Accuracy: 0.908594\n",
      "n_estimators = 100\n",
      "max_features = 1.000000\n",
      " Average Accuracy: 0.873437\n",
      "n_estimators = 500\n",
      "max_features = 0.000000\n",
      " Average Accuracy: 0.903906\n",
      "n_estimators = 500\n",
      "max_features = 0.500000\n",
      " Average Accuracy: 0.917188\n",
      "n_estimators = 500\n",
      "max_features = 0.750000\n",
      " Average Accuracy: 0.911719\n",
      "n_estimators = 500\n",
      "max_features = 1.000000\n",
      " Average Accuracy: 0.878125\n",
      "n_estimators = 1000\n",
      "max_features = 0.000000\n",
      " Average Accuracy: 0.906250\n",
      "n_estimators = 1000\n",
      "max_features = 0.500000\n",
      " Average Accuracy: 0.917969\n",
      "n_estimators = 1000\n",
      "max_features = 0.750000\n",
      " Average Accuracy: 0.910156\n",
      "n_estimators = 1000\n",
      "max_features = 1.000000\n",
      " Average Accuracy: 0.876563\n",
      "n_estimators = 1500\n",
      "max_features = 0.000000\n",
      " Average Accuracy: 0.903125\n",
      "n_estimators = 1500\n",
      "max_features = 0.500000\n",
      " Average Accuracy: 0.911719\n",
      "n_estimators = 1500\n",
      "max_features = 0.750000\n",
      " Average Accuracy: 0.911719\n",
      "n_estimators = 1500\n",
      "max_features = 1.000000\n",
      " Average Accuracy: 0.876563\n",
      "n_estimators = 2000\n",
      "max_features = 0.000000\n",
      " Average Accuracy: 0.902344\n",
      "n_estimators = 2000\n",
      "max_features = 0.500000\n",
      " Average Accuracy: 0.914844\n",
      "n_estimators = 2000\n",
      "max_features = 0.750000\n",
      " Average Accuracy: 0.912500\n",
      "n_estimators = 2000\n",
      "max_features = 1.000000\n",
      " Average Accuracy: 0.871875\n",
      "Độ chính xác trung bình RandomForest: 0.9180, Tương ứng với n_estimators = 1000 và max_features = 0.500000\n"
     ]
    }
   ],
   "source": [
    "imax = 0\n",
    "jmax = 0\n",
    "Avg_acc_max = 0\n",
    "for i in (100, 500, 1000, 1500, 2000):\n",
    "    # tạo forest If “auto”, then max_features=sqrt(n_features).\n",
    "    c = 1\n",
    "    r += 1  # Increment the row index before writing\n",
    "    ws.write(r, c-1, i)\n",
    "    for j in (0, 0.5, 0.75, 1):\n",
    "        if j == 0:\n",
    "            forest = RandomForestClassifier(bootstrap=True, n_estimators=i, criterion='gini', max_features='sqrt')\n",
    "        else:\n",
    "            forest = RandomForestClassifier(bootstrap=True, n_estimators=i, criterion='gini', max_features=j)\n",
    "        # huấn luyện mô hình trên tâp huấn luyện\n",
    "        results = cross_val_score(forest, X, y, cv=kfold)\n",
    "        # Xác định tham số tối ưu thông qua độ chính xác trung bình    \n",
    "        if Avg_acc_max < results.mean():\n",
    "            Avg_acc_max = results.mean()\n",
    "            imax = i\n",
    "            jmax = j\n",
    "        ws.write(r, c, results.mean())\n",
    "        print(\"n_estimators = %i\" % i)\n",
    "        print(\"max_features = %f\" % j)\n",
    "        print(\" Average Accuracy: %f\" % results.mean())\n",
    "        c = c + 1\n",
    "wb.save('result_RdomForest_K' + str(n_splits) + '.xls')\n",
    "print('Độ chính xác trung bình RandomForest: %0.4f, Tương ứng với n_estimators = %i và max_features = %f' % (Avg_acc_max, imax, jmax))"
   ]
  }
 ],
 "metadata": {
  "kernelspec": {
   "display_name": "Python 3",
   "language": "python",
   "name": "python3"
  },
  "language_info": {
   "codemirror_mode": {
    "name": "ipython",
    "version": 3
   },
   "file_extension": ".py",
   "mimetype": "text/x-python",
   "name": "python",
   "nbconvert_exporter": "python",
   "pygments_lexer": "ipython3",
   "version": "3.12.6"
  }
 },
 "nbformat": 4,
 "nbformat_minor": 4
}
