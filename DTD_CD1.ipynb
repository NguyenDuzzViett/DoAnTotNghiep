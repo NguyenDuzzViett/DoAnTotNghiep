{
 "cells": [
  {
   "cell_type": "code",
   "execution_count": 5,
   "metadata": {},
   "outputs": [],
   "source": [
    "# Khai báo thư viện\n",
    "import pandas as pd\n",
    "import numpy as np\n",
    "from sklearn import svm\n",
    "from sklearn.svm import SVC\n",
    "from sklearn.ensemble import RandomForestClassifier\n",
    "# Đọc dữ liệu đầu vào\n",
    "duongDan = 'Data_Gestational_diabetes.csv'\n",
    "# Dữ liệu đầu vào bao gồm 23 đặc trưng và đặc trưng thứ 23 là nhãn (0- Bình Thường, 1 - Mắc ĐTD)\n",
    "tenCot = ['Year_old','Occupatio','Education','gestational_age','Number_of_pregnancy','Para','Childbirth_history', \n",
    "              'Family_history','Height','Pre_gregnancy_weight','Current_Weight','Upper_blood_pressure', \n",
    "              'Lower_blood_pressure','Work_status','Work_performance','Nutrition', 'Sport_practice_day_per_month',\n",
    "              'Sport_day_per_week', 'Sport_last_month', 'Glucose1','Glucose2','Glucose3','Conclude']\n",
    "duLieu = pd.read_csv(duongDan, names= tenCot)\n",
    "# Chuyển dữ liệu đầu vào sang dạng Ma trận\n",
    "matrixDuLieu = duLieu.values\n",
    "# Lấy ra tập đặc trưng huấn luyện\n",
    "X = matrixDuLieu[1:,:-1]\n",
    "# Lấy nhãn chẩn đoán: 0 - Bình Thường, 1 - Mắc ĐTD\n",
    "y = matrixDuLieu[1:,-1]\n",
    "#duLieu.head()"
   ]
  },
  {
   "cell_type": "code",
   "execution_count": 6,
   "metadata": {},
   "outputs": [
    {
     "data": {
      "text/plain": [
       "array([['35', '2', '3', ..., '4.37', '9.68', '7.52'],\n",
       "       ['39', '0', '0', ..., '4.05', '8.31', '7.39'],\n",
       "       ['31', '3', '2', ..., '4.43', '8.06', '6.75'],\n",
       "       ...,\n",
       "       ['30', '15', '3', ..., '4.52', '7.6', '6.42'],\n",
       "       ['24', '0', '1', ..., '4.48', '6.11', '5.97'],\n",
       "       ['29', '0', '1', ..., '4.33', '8.3', '7.92']],\n",
       "      shape=(1280, 22), dtype=object)"
      ]
     },
     "execution_count": 6,
     "metadata": {},
     "output_type": "execute_result"
    }
   ],
   "source": [
    "X"
   ]
  },
  {
   "cell_type": "code",
   "execution_count": 7,
   "metadata": {},
   "outputs": [
    {
     "name": "stdout",
     "output_type": "stream",
     "text": [
      "Kết quả chẩn đoán SVM  ['0' '1' '1']\n",
      "Kết quả chẩn đoán Random forest ['0' '1' '1']\n"
     ]
    }
   ],
   "source": [
    "# Thông tin bệnh nhân cần chẩn đoán\n",
    "bn =[[28,0,1,27,2,3,0,0,1.6,47,52,120,80,1,0,2,0,0,0,4.1,4.68,4.97],\n",
    "     [32,0,1,27,2,3,0,0,1.6,24,52,120,80,1,0,2,0,0,0,4.1,3.6,15.97], \n",
    "     [35,2,3,24,2,2,1,0,1.54,52,58,110,70,1,0,2,1,2,30,4.37,9.68,16.52]]\n",
    "\n",
    "# Huấn luyện mô hình SVM\n",
    "svm1 = svm.SVC(kernel='rbf', C=100000, gamma=1e-06)\n",
    "svm1.fit(X,y)\n",
    "# Dự đoán\n",
    "bn_pred = svm1.predict(bn)\n",
    "print('Kết quả chẩn đoán SVM ',bn_pred)\n",
    "# Gọi Random Forest \n",
    "rd = RandomForestClassifier(bootstrap=True, n_estimators=100, criterion='gini', max_features= 0.75)\n",
    "rd.fit(X,y) \n",
    "bn_pred = rd.predict(bn) \n",
    "print('Kết quả chẩn đoán Random forest',bn_pred) "
   ]
  },
  {
   "cell_type": "code",
   "execution_count": null,
   "metadata": {},
   "outputs": [],
   "source": []
  }
 ],
 "metadata": {
  "kernelspec": {
   "display_name": "Python 3",
   "language": "python",
   "name": "python3"
  },
  "language_info": {
   "codemirror_mode": {
    "name": "ipython",
    "version": 3
   },
   "file_extension": ".py",
   "mimetype": "text/x-python",
   "name": "python",
   "nbconvert_exporter": "python",
   "pygments_lexer": "ipython3",
   "version": "3.12.6"
  }
 },
 "nbformat": 4,
 "nbformat_minor": 4
}
